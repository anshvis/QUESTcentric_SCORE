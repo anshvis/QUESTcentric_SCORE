{
 "cells": [
  {
   "cell_type": "code",
   "execution_count": 27,
   "metadata": {},
   "outputs": [],
   "source": [
    "import pandas as pd\n",
    "import matplotlib.pyplot as plt\n",
    "import numpy as np\n",
    "from datetime import datetime\n",
    "from sklearn.model_selection import train_test_split\n",
    "from datetime import datetime\n",
    "from sklearn.feature_selection import SelectKBest, mutual_info_classif\n",
    "\n",
    "\n"
   ]
  },
  {
   "attachments": {},
   "cell_type": "markdown",
   "metadata": {},
   "source": [
    "# Cleaning"
   ]
  },
  {
   "cell_type": "code",
   "execution_count": 28,
   "metadata": {},
   "outputs": [],
   "source": [
    "df = pd.read_csv('critical_mention_report_2023-02-17.csv')\n",
    "date_format = \"%b %d, %Y %I:%M %p %Z\""
   ]
  },
  {
   "cell_type": "code",
   "execution_count": 29,
   "metadata": {},
   "outputs": [],
   "source": [
    "#Cleaning Data\n",
    "df = df.dropna(axis=1, how='all')\n",
    "\n",
    "df.drop(['Online + Print Source Name', 'Online + Print Author', 'Channel Name', 'Online + Print Source Page', 'Estimated Local Audience', 'Estimated Local Publicity Value', 'Text', 'URL', 'Last Updated', 'Text ID', 'Thumbnail', 'Source', 'Clip ID', 'License Name', 'Copyright'], axis=1)\n",
    "\n",
    "#for exporting cleaned data\n",
    "def export_dropna(df):\n",
    "    df.to_csv('score_data_cleaned.csv', index=False)\n",
    "export_dropna(df)\n"
   ]
  },
  {
   "cell_type": "code",
   "execution_count": 30,
   "metadata": {},
   "outputs": [
    {
     "data": {
      "text/plain": [
       "0      2022-04-02 22:35:00\n",
       "1      2022-04-02 21:43:00\n",
       "2      2022-04-02 16:22:00\n",
       "3      2022-04-02 16:10:00\n",
       "4      2022-04-02 13:48:00\n",
       "               ...        \n",
       "8287   2022-12-31 16:35:00\n",
       "8288   2022-12-31 16:06:00\n",
       "8289   2022-12-31 07:35:00\n",
       "8290   2022-12-31 07:06:00\n",
       "8291   2022-12-30 19:35:00\n",
       "Name: Date and Time, Length: 8292, dtype: datetime64[ns]"
      ]
     },
     "execution_count": 30,
     "metadata": {},
     "output_type": "execute_result"
    }
   ],
   "source": [
    "#Making the Dates Datetime objects\n",
    "date_format_1 = '%m/%d/%Y %I:%M:%S %p'\n",
    "date_format_2 = '%I:%M %p'\n",
    "\n",
    "# Define a function to convert a single time string to a datetime object, removing 'CDT'\n",
    "def convert_time_string(time_str):\n",
    "    # Remove the last 4 characters (' CDT') from the time string\n",
    "    time_str = time_str[:-4]\n",
    "    \n",
    "    # Parse the time string to a datetime object without timezone information\n",
    "    datetime_obj = datetime.strptime(time_str, date_format_2)\n",
    "    \n",
    "    return datetime_obj\n",
    "\n",
    "# Apply the function to the 'time_str' column to create a new 'datetime' column\n",
    "df['Broadcast Time'] = df['Broadcast Time'].apply(convert_time_string)\n",
    "\n",
    "\n",
    "df['Date and Time'] = df['Time Clip'].apply(lambda x: datetime.strptime(x, date_format_1))\n",
    "\n",
    "\n",
    "df['Date and Time']\n"
   ]
  },
  {
   "cell_type": "code",
   "execution_count": 31,
   "metadata": {},
   "outputs": [],
   "source": [
    "#Making Broadcast time a quantitative variable\n",
    "\n",
    "def time_to_total_mins(time):\n",
    "    # Remove the last 4 characters (' CDT') from the time string\n",
    "    mins = 60*time.hour + time.minute\n",
    "    return mins\n",
    "\n",
    "df['Local Time in Minutes'] = df['Broadcast Time'].apply(time_to_total_mins)"
   ]
  },
  {
   "attachments": {},
   "cell_type": "markdown",
   "metadata": {},
   "source": [
    "# Seeing which markets bring in the most National Audience/Publicity Value"
   ]
  },
  {
   "cell_type": "code",
   "execution_count": 32,
   "metadata": {},
   "outputs": [
    {
     "name": "stdout",
     "output_type": "stream",
     "text": [
      "Top 10 Markets by Mean National Audience:\n",
      "1. Butetown, Wales: 139017428\n",
      "2. Westerville, OH: 18177317\n",
      "3. United Kingdom: 8104861\n",
      "4. District of Columbia, US: 3428026\n",
      "5. United States: 2346335\n",
      "6. Deerfield, IL: 2262391\n",
      "7. Highland Park, IL: 2262391\n",
      "8. Bensalem, PA: 2262391\n",
      "9. Northbrook, IL: 2262391\n",
      "10. State College, PA: 1942964\n"
     ]
    }
   ],
   "source": [
    "# Group by Market and calculate the mean of Estimated National Audience\n",
    "national_audience_by_market = df.groupby('Market')['Estimated National Audience'].mean()\n",
    "\n",
    "# Sort by mean national audience in descending order\n",
    "sorted_national_audience = national_audience_by_market.sort_values(ascending=False)\n",
    "\n",
    "# Print the top 10 markets by mean national audience\n",
    "print('Top 10 Markets by Mean National Audience:')\n",
    "for i, (market, audience) in enumerate(sorted_national_audience.items()):\n",
    "    if i >= 10:\n",
    "        break\n",
    "    formatted_audience = f'{audience:.0f}'\n",
    "    print(f'{i+1}. {market}: {formatted_audience}')\n",
    "\n"
   ]
  },
  {
   "cell_type": "code",
   "execution_count": 33,
   "metadata": {},
   "outputs": [
    {
     "name": "stdout",
     "output_type": "stream",
     "text": [
      "Top 10 Markets by Mean National Audience:\n",
      "1. Butetown, Wales: 1604311\n",
      "2. Westerville, OH: 230092\n",
      "3. District of Columbia, US: 68481\n",
      "4. United States: 66282\n",
      "5. United Kingdom: 54861\n",
      "6. Vestal, NY: 29131\n",
      "7. Bensalem, PA: 28483\n",
      "8. Casa Grande, AZ: 25476\n",
      "9. Norwich, CT: 18324\n",
      "10. Warminster, PA: 18013\n"
     ]
    }
   ],
   "source": [
    "# Group by Market and calculate the mean of Estimated National Audience\n",
    "pv_by_market = df.groupby('Market')['Estimated National Publicity Value'].mean()\n",
    "\n",
    "# Sort by mean national audience in descending order\n",
    "sorted_pv = pv_by_market.sort_values(ascending=False)\n",
    "\n",
    "# Print the top 10 markets by mean national audience\n",
    "print('Top 10 Markets by Mean National Audience:')\n",
    "for i, (market, pv) in enumerate(sorted_pv.items()):\n",
    "    if i >= 10:\n",
    "        break\n",
    "    formatted_pv = f'{pv:.0f}'\n",
    "    print(f'{i+1}. {market}: {formatted_pv}')"
   ]
  },
  {
   "cell_type": "code",
   "execution_count": 34,
   "metadata": {},
   "outputs": [],
   "source": [
    "#Making dummy variables for the Radio Center\n",
    "\n",
    "dummy_station = pd.get_dummies(df['Station Affiliate'])\n",
    "# df = pd.concat([df, dummy_station], axis=1)\n",
    "\n",
    "dummy_media_type = pd.get_dummies(df['Media Type'])\n",
    "# df = pd.concat([df, dummy_media_type], axis=1)\n"
   ]
  },
  {
   "cell_type": "code",
   "execution_count": 35,
   "metadata": {},
   "outputs": [],
   "source": [
    "# # Split the data into features and target\n",
    "# X = df.drop('Estimated National Publicity Value', axis=1)\n",
    "# y = df['Estimated National Publicity Value']\n",
    "\n",
    "# # Use SelectKBest to select the top k features based on mutual information\n",
    "# selector = SelectKBest(mutual_info_classif, k=3)\n",
    "# selector.fit(X, y)\n",
    "\n",
    "# # Get the indices of the selected features\n",
    "# selected_features = selector.get_support(indices=True)\n",
    "\n",
    "# # Get the names of the selected features\n",
    "# selected_feature_names = list(X.columns[selected_features])\n",
    "\n",
    "# # Print the selected features\n",
    "# print(selected_feature_names)"
   ]
  },
  {
   "attachments": {},
   "cell_type": "markdown",
   "metadata": {},
   "source": [
    "# Correlating Publicty Value/Audience to Time of Day"
   ]
  },
  {
   "cell_type": "code",
   "execution_count": 36,
   "metadata": {},
   "outputs": [
    {
     "data": {
      "image/png": "[encoded data removed]",
      "text/plain": [
       "<Figure size 432x288 with 1 Axes>"
      ]
     },
     "metadata": {
      "needs_background": "light"
     },
     "output_type": "display_data"
    }
   ],
   "source": [
    "import matplotlib.pyplot as plt\n",
    "\n",
    "# Extract the hour of the day from the datetime column\n",
    "df['hour'] = df['Date and Time'].dt.hour\n",
    "\n",
    "# Group the data by hour and compute the mean publicity value for each hour\n",
    "hourly_means = df.groupby('hour')['Estimated National Publicity Value'].mean()\n",
    "\n",
    "# Plot the hourly means as a bar chart\n",
    "plt.bar(hourly_means.index, hourly_means.values)\n",
    "\n",
    "# Add labels and title to the plot\n",
    "plt.xlabel('Hour of the Day')\n",
    "plt.ylabel('Publicity Value')\n",
    "plt.title('Distribution of Publicity Value by Hour of the Day')\n",
    "\n",
    "# Show the plot\n",
    "plt.show()\n"
   ]
  }
 ],
 "metadata": {
  "kernelspec": {
   "display_name": "base",
   "language": "python",
   "name": "python3"
  },
  "language_info": {
   "codemirror_mode": {
    "name": "ipython",
    "version": 3
   },
   "file_extension": ".py",
   "mimetype": "text/x-python",
   "name": "python",
   "nbconvert_exporter": "python",
   "pygments_lexer": "ipython3",
   "version": "3.9.7"
  },
  "orig_nbformat": 4,
  "vscode": {
   "interpreter": {
    "hash": "f7fd980798d652a2d5051b38750aec1738a76adfb278f2a5080f6710af88191c"
   }
  }
 },
 "nbformat": 4,
 "nbformat_minor": 2
}
