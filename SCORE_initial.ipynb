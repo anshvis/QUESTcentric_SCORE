{
 "cells": [
  {
   "cell_type": "code",
   "execution_count": 2,
   "metadata": {},
   "outputs": [],
   "source": [
    "import pandas as pd\n",
    "import matplotlib.pyplot as plt\n",
    "import numpy as np\n",
    "from datetime import datetime\n",
    "from sklearn.model_selection import train_test_split\n",
    "from datetime import datetime\n",
    "from sklearn.feature_selection import SelectKBest, mutual_info_classif\n",
    "\n",
    "\n"
   ]
  },
  {
   "attachments": {},
   "cell_type": "markdown",
   "metadata": {},
   "source": [
    "# Cleaning"
   ]
  },
  {
   "cell_type": "code",
   "execution_count": 3,
   "metadata": {},
   "outputs": [
    {
     "data": {
      "text/plain": [
       "8292"
      ]
     },
     "execution_count": 3,
     "metadata": {},
     "output_type": "execute_result"
    }
   ],
   "source": [
    "df = pd.read_csv('critical_mention_report_2023-02-17.csv')\n",
    "date_format = \"%b %d, %Y %I:%M %p %Z\"\n",
    "len(df)"
   ]
  },
  {
   "cell_type": "code",
   "execution_count": 13,
   "metadata": {},
   "outputs": [
    {
     "name": "stdout",
     "output_type": "stream",
     "text": [
      "8292\n"
     ]
    }
   ],
   "source": [
    "#Cleaning Data\n",
    "df = df.dropna(axis=1, how='all')\n",
    "\n",
    "print(len(df))\n",
    "\n",
    "df.drop(['Online + Print Source Name', 'Online + Print Author', 'Channel Name', 'Online + Print Source Page', 'Estimated Local Audience', 'Estimated Local Publicity Value', 'Text', 'URL', 'Last Updated', 'Text ID', 'Thumbnail', 'Source', 'Clip ID', 'License Name', 'Copyright'], axis=1)\n",
    "\n",
    "#for exporting cleaned data\n",
    "def export_dropna(df):\n",
    "    df.to_csv('score_data_cleaned.csv', index=False)\n",
    "#export_dropna(df)\n"
   ]
  },
  {
   "cell_type": "code",
   "execution_count": 5,
   "metadata": {},
   "outputs": [],
   "source": [
    "#Making the Dates Datetime objects\n",
    "date_format_1 = '%m/%d/%Y %I:%M:%S %p'\n",
    "date_format_2 = '%I:%M %p'\n",
    "\n",
    "# Define a function to convert a single time string to a datetime object, removing 'CDT'\n",
    "def convert_time_string(time_str):\n",
    "    # Remove the last 4 characters (' CDT') from the time string\n",
    "    time_str = time_str[:-4]\n",
    "    \n",
    "    # Parse the time string to a datetime object without timezone information\n",
    "    datetime_obj = datetime.strptime(time_str, date_format_2)\n",
    "    \n",
    "    return datetime_obj\n",
    "\n",
    "# Apply the function to the 'time_str' column to create a new 'datetime' column\n",
    "df['Broadcast Time'] = df['Broadcast Time'].apply(convert_time_string)\n",
    "\n",
    "\n",
    "df['Date and Time'] = df['Time Clip'].apply(lambda x: datetime.strptime(x, date_format_1))"
   ]
  },
  {
   "cell_type": "code",
   "execution_count": 6,
   "metadata": {},
   "outputs": [],
   "source": [
    "#Making Broadcast time a quantitative variable\n",
    "\n",
    "def time_to_total_mins(time):\n",
    "    # Remove the last 4 characters (' CDT') from the time string\n",
    "    mins = 60*time.hour + time.minute\n",
    "    return mins\n",
    "\n",
    "df['Local Time in Minutes'] = df['Broadcast Time'].apply(time_to_total_mins)"
   ]
  },
  {
   "cell_type": "markdown",
   "metadata": {},
   "source": [
    "# Seeing which markets bring in the most National Audience/Publicity Value"
   ]
  },
  {
   "cell_type": "code",
   "execution_count": 7,
   "metadata": {},
   "outputs": [
    {
     "name": "stdout",
     "output_type": "stream",
     "text": [
      "Top 10 Markets by Mean National Audience:\n",
      "1. Butetown, Wales: 139017428\n",
      "2. Westerville, OH: 18177317\n",
      "3. United Kingdom: 8104861\n",
      "4. District of Columbia, US: 3428026\n",
      "5. United States: 2346335\n",
      "6. Deerfield, IL: 2262391\n",
      "7. Highland Park, IL: 2262391\n",
      "8. Bensalem, PA: 2262391\n",
      "9. Northbrook, IL: 2262391\n",
      "10. State College, PA: 1942964\n"
     ]
    }
   ],
   "source": [
    "# Group by Market and calculate the mean of Estimated National Audience\n",
    "national_audience_by_market = df.groupby('Market')['Estimated National Audience'].mean()\n",
    "\n",
    "# Sort by mean national audience in descending order\n",
    "sorted_national_audience = national_audience_by_market.sort_values(ascending=False)\n",
    "\n",
    "# Print the top 10 markets by mean national audience\n",
    "print('Top 10 Markets by Mean National Audience:')\n",
    "for i, (market, audience) in enumerate(sorted_national_audience.items()):\n",
    "    if i >= 10:\n",
    "        break\n",
    "    formatted_audience = f'{audience:.0f}'\n",
    "    print(f'{i+1}. {market}: {formatted_audience}')\n",
    "\n"
   ]
  },
  {
   "cell_type": "code",
   "execution_count": 8,
   "metadata": {},
   "outputs": [
    {
     "name": "stdout",
     "output_type": "stream",
     "text": [
      "Top 10 Markets by Mean National Audience:\n",
      "1. Butetown, Wales: 1604311\n",
      "2. Westerville, OH: 230092\n",
      "3. District of Columbia, US: 68481\n",
      "4. United States: 66282\n",
      "5. United Kingdom: 54861\n",
      "6. Vestal, NY: 29131\n",
      "7. Bensalem, PA: 28483\n",
      "8. Casa Grande, AZ: 25476\n",
      "9. Norwich, CT: 18324\n",
      "10. Warminster, PA: 18013\n"
     ]
    }
   ],
   "source": [
    "# Group by Market and calculate the mean of Estimated National Audience\n",
    "pv_by_market = df.groupby('Market')['Estimated National Publicity Value'].mean()\n",
    "\n",
    "# Sort by mean national audience in descending order\n",
    "sorted_pv = pv_by_market.sort_values(ascending=False)\n",
    "\n",
    "# Print the top 10 markets by mean national audience\n",
    "print('Top 10 Markets by Mean National Audience:')\n",
    "for i, (market, pv) in enumerate(sorted_pv.items()):\n",
    "    if i >= 10:\n",
    "        break\n",
    "    formatted_pv = f'{pv:.0f}'\n",
    "    print(f'{i+1}. {market}: {formatted_pv}')"
   ]
  },
  {
   "cell_type": "code",
   "execution_count": 9,
   "metadata": {},
   "outputs": [],
   "source": [
    "#Making dummy variables for the Radio Center\n",
    "\n",
    "dummy_station = pd.get_dummies(df['Station Affiliate'])\n",
    "# df = pd.concat([df, dummy_station], axis=1)\n",
    "\n",
    "dummy_media_type = pd.get_dummies(df['Media Type'])\n",
    "# df = pd.concat([df, dummy_media_type], axis=1)\n"
   ]
  },
  {
   "attachments": {},
   "cell_type": "markdown",
   "metadata": {},
   "source": [
    "# Correlating Publicty Value/Audience to Time of Day"
   ]
  },
  {
   "cell_type": "code",
   "execution_count": 10,
   "metadata": {},
   "outputs": [
    {
     "data": {
      "image/png": "[encoded data removed]",
      "text/plain": [
       "<Figure size 432x288 with 1 Axes>"
      ]
     },
     "metadata": {
      "needs_background": "light"
     },
     "output_type": "display_data"
    }
   ],
   "source": [
    "import matplotlib.pyplot as plt\n",
    "\n",
    "# Extract the hour of the day from the datetime column\n",
    "df['hour'] = df['Date and Time'].dt.hour\n",
    "\n",
    "# Group the data by hour and compute the mean publicity value for each hour\n",
    "hourly_means = df.groupby('hour')['Estimated National Publicity Value'].mean()\n",
    "\n",
    "# Plot the hourly means as a bar chart\n",
    "plt.bar(hourly_means.index, hourly_means.values)\n",
    "\n",
    "# Add labels and title to the plot\n",
    "plt.xlabel('Hour of the Day')\n",
    "plt.ylabel('Publicity Value')\n",
    "plt.title('Distribution of Publicity Value by Hour of the Day')\n",
    "\n",
    "# Show the plot\n",
    "plt.show()\n"
   ]
  },
  {
   "cell_type": "code",
   "execution_count": 11,
   "metadata": {},
   "outputs": [
    {
     "data": {
      "text/html": [
       "<div>\n",
       "<style scoped>\n",
       "    .dataframe tbody tr th:only-of-type {\n",
       "        vertical-align: middle;\n",
       "    }\n",
       "\n",
       "    .dataframe tbody tr th {\n",
       "        vertical-align: top;\n",
       "    }\n",
       "\n",
       "    .dataframe thead th {\n",
       "        text-align: right;\n",
       "    }\n",
       "</style>\n",
       "<table border=\"1\" class=\"dataframe\">\n",
       "  <thead>\n",
       "    <tr style=\"text-align: right;\">\n",
       "      <th></th>\n",
       "      <th>0</th>\n",
       "    </tr>\n",
       "    <tr>\n",
       "      <th>Keywords</th>\n",
       "      <th></th>\n",
       "    </tr>\n",
       "  </thead>\n",
       "  <tbody>\n",
       "    <tr>\n",
       "      <th>ASK SCORE,Business,Score advisers,SCORE, Mentors,assistance,SCOREMentors,SCORE program,chapters,business,SCORE dot org,Small,score dot org,Workshops,Biz Tip of the Week,Mentors,Nonprofit,Score advisors,SCOREFans,SCORE Workshop,SCORE workshop,Score volunteers,consulting,Score business plan,volunteer,American,SCORE.org,free,Workshop,Mentor,SCORE topics,Service Corps of Retired Executives,score mentor,SCORE Client,non-profit,Score volunteer,SCORE Workshops,SCORE Foundation,SCORE,SCORE Mentors,Championship,Score blog,Score webinar,workshops,Score advisor,Volunteers,nonprofit,volunteers,SCORE Chapter,score mentors,SCORE awards,Score volunteering,SCORE Association,score.org,adviser</th>\n",
       "      <td>8</td>\n",
       "    </tr>\n",
       "    <tr>\n",
       "      <th>ASK SCORE,Business,Score business plan,Score volunteering,SCORE topics,volunteers,Championship,Workshops,SCOREMentors,score mentor,SCORE awards,Workshop,Mentor,SCORE dot org,Score advisors,non-profit,SCORE Client,SCORE.org,score.org,volunteer,SCORE Association,consulting,assistance,business,nonprofit,Score volunteer,workshops,American,Score volunteers,SCORE Workshop,SCORE Chapter,SCORE,SCORE Foundation,SCORE workshop,Score blog,Score advisor,adviser,Score advisers,free,score dot org,Score webinar,Biz Tip of the Week,Service Corps of Retired Executives,SCORE, Mentors,SCOREFans,score mentors,Volunteers,Small,SCORE Workshops,SCORE program,SCORE Mentors,chapters,Nonprofit,Mentors</th>\n",
       "      <td>10</td>\n",
       "    </tr>\n",
       "    <tr>\n",
       "      <th>ASK SCORE,SCORE, Mentors,Mentor,SCORE Foundation,volunteers,SCORE Chapter,Score volunteering,Service Corps of Retired Executives,SCORE,SCORE dot org,Mentors,Championship,SCORE awards,SCOREMentors,SCORE.org,Score advisers,workshops,Score advisors,Biz Tip of the Week,non-profit,SCORE workshop,Score volunteer,assistance,Workshop,business,SCORE program,SCORE Mentors,consulting,adviser,score mentor,chapters,SCORE topics,SCORE Workshop,Nonprofit,nonprofit,score mentors,free,Volunteers,Score blog,American,Score volunteers,SCORE Workshops,Score advisor,score dot org,Workshops,score.org,volunteer,SCORE Client,SCORE Association,Score business plan,Score webinar,SCOREFans,Small,Business</th>\n",
       "      <td>7</td>\n",
       "    </tr>\n",
       "    <tr>\n",
       "      <th>ASK SCORE,SCOREFans,SCORE dot org,SCORE Association,Score advisers,Service Corps of Retired Executives,SCORE,SCORE awards,nonprofit,consulting,American,SCORE Chapter,assistance,SCORE program,Volunteers,Score volunteer,SCORE, Mentors,Score blog,Mentors,SCORE Workshops,score.org,score dot org,SCORE Client,Score business plan,adviser,SCORE topics,Small,score mentors,Score advisors,Workshop,workshops,volunteers,Business,SCOREMentors,Championship,Score volunteering,SCORE workshop,volunteer,Workshops,Mentor,SCORE Workshop,Score advisor,Biz Tip of the Week,Nonprofit,Score volunteers,score mentor,non-profit,chapters,SCORE Foundation,business,Score webinar,SCORE Mentors,SCORE.org,free</th>\n",
       "      <td>8</td>\n",
       "    </tr>\n",
       "    <tr>\n",
       "      <th>ASK SCORE,Score volunteering,Biz Tip of the Week,SCORE Workshop,SCORE Chapter,Score volunteer,chapters,workshops,consulting,score dot org,business,SCORE.org,SCORE awards,SCORE Workshops,Service Corps of Retired Executives,Championship,volunteers,SCOREFans,Score advisor,non-profit,SCORE, Mentors,Volunteers,assistance,SCORE workshop,nonprofit,Score blog,Workshop,SCORE Mentors,SCORE program,Workshops,Business,Score business plan,score mentors,Mentors,SCORE dot org,free,Small,adviser,Score advisers,SCOREMentors,Score volunteers,Nonprofit,score.org,SCORE topics,SCORE Client,volunteer,score mentor,Score advisors,Mentor,Score webinar,SCORE,American,SCORE Foundation,SCORE Association</th>\n",
       "      <td>3</td>\n",
       "    </tr>\n",
       "    <tr>\n",
       "      <th>ASK SCORE,assistance,Biz Tip of the Week,volunteers,workshops,SCORE Association,Business,SCORE workshop,nonprofit,Score volunteers,Volunteers,Score advisers,SCORE program,Service Corps of Retired Executives,SCORE Chapter,chapters,free,Workshop,non-profit,SCORE topics,business,Small,SCORE awards,Score business plan,Score advisors,Championship,SCORE.org,SCORE Workshops,Workshops,SCOREMentors,score.org,American,Mentors,Score advisor,SCORE dot org,score dot org,Nonprofit,Mentor,SCORE, Mentors,Score blog,Score volunteer,score mentor,adviser,score mentors,Score webinar,SCORE Workshop,SCORE Client,Score volunteering,consulting,SCORE,SCOREFans,volunteer,SCORE Mentors,SCORE Foundation</th>\n",
       "      <td>6</td>\n",
       "    </tr>\n",
       "    <tr>\n",
       "      <th>ASK SCORE,assistance,Service Corps of Retired Executives,Workshops,SCORE Chapter,workshops,SCORE program,volunteer,SCOREMentors,SCORE Foundation,Score webinar,Volunteers,SCORE awards,Business,SCORE,Score advisor,SCORE workshop,Mentors,Mentor,score mentor,Score blog,SCORE dot org,nonprofit,Workshop,Score volunteers,SCOREFans,consulting,Score advisers,volunteers,score dot org,SCORE, Mentors,free,score mentors,business,Score volunteer,score.org,Small,SCORE Association,American,adviser,SCORE Workshops,SCORE Workshop,chapters,Score business plan,SCORE Mentors,Nonprofit,Score volunteering,SCORE topics,non-profit,Championship,Score advisors,Biz Tip of the Week,SCORE.org,SCORE Client</th>\n",
       "      <td>10</td>\n",
       "    </tr>\n",
       "    <tr>\n",
       "      <th>American,Biz Tip of the Week,Nonprofit,Score advisers,Mentors,Score webinar,SCORE Workshop,SCORE,Score volunteer,SCORE Chapter,Service Corps of Retired Executives,Mentor,free,Score volunteering,SCOREFans,chapters,score mentors,SCORE Mentors,score dot org,Score blog,Score advisors,adviser,nonprofit,SCORE.org,Small,SCORE workshop,ASK SCORE,Workshop,non-profit,SCORE Client,volunteer,Score advisor,Workshops,SCORE awards,SCORE Association,SCORE topics,Score volunteers,volunteers,business,Business,score mentor,SCORE Foundation,consulting,score.org,Championship,assistance,Volunteers,Score business plan,SCORE dot org,SCORE program,SCORE, Mentors,SCORE Workshops,SCOREMentors,workshops</th>\n",
       "      <td>6</td>\n",
       "    </tr>\n",
       "    <tr>\n",
       "      <th>American,SCORE Foundation,chapters,SCORE.org,SCORE Workshops,Service Corps of Retired Executives,volunteers,SCORE program,Score advisor,consulting,workshops,Volunteers,ASK SCORE,score.org,SCORE dot org,Score volunteer,adviser,Score volunteers,Workshop,Score advisors,Mentors,Score business plan,SCORE,SCORE Mentors,volunteer,SCORE workshop,non-profit,score mentor,nonprofit,Score blog,Workshops,Business,SCORE Chapter,SCORE awards,Championship,Biz Tip of the Week,Nonprofit,business,SCOREMentors,SCOREFans,SCORE topics,score dot org,Small,Score advisers,Mentor,SCORE, Mentors,free,SCORE Client,score mentors,SCORE Workshop,assistance,Score volunteering,Score webinar,SCORE Association</th>\n",
       "      <td>8</td>\n",
       "    </tr>\n",
       "    <tr>\n",
       "      <th>American,SCORE Workshop,SCORE program,SCORE.org,volunteer,Score volunteer,score mentor,Workshops,score dot org,Small,Score advisers,Score advisor,Mentor,adviser,SCOREFans,Service Corps of Retired Executives,Score blog,Score advisors,ASK SCORE,Business,SCORE dot org,score.org,SCORE Client,SCORE awards,SCORE,Mentors,consulting,Volunteers,SCORE, Mentors,Biz Tip of the Week,non-profit,Nonprofit,SCORE Mentors,Championship,SCORE topics,volunteers,SCORE Foundation,SCORE Chapter,workshops,Workshop,business,Score volunteers,free,Score webinar,SCORE workshop,SCOREMentors,score mentors,nonprofit,SCORE Workshops,chapters,Score business plan,assistance,SCORE Association,Score volunteering</th>\n",
       "      <td>25</td>\n",
       "    </tr>\n",
       "    <tr>\n",
       "      <th>American,SCORE workshop,Championship,Score volunteering,SCORE Mentors,score.org,Service Corps of Retired Executives,Score advisors,SCOREMentors,volunteers,Score webinar,non-profit,SCORE Workshops,Biz Tip of the Week,adviser,SCORE topics,consulting,SCORE Chapter,SCORE Association,Volunteers,Business,Score advisers,chapters,score mentor,Nonprofit,SCORE Foundation,free,SCOREFans,business,workshops,Score advisor,Workshops,Score volunteers,ASK SCORE,Mentor,score dot org,SCORE program,SCORE.org,assistance,SCORE, Mentors,SCORE Client,SCORE,score mentors,Mentors,Score volunteer,volunteer,nonprofit,Workshop,Score business plan,Score blog,Small,SCORE dot org,SCORE awards,SCORE Workshop</th>\n",
       "      <td>3</td>\n",
       "    </tr>\n",
       "    <tr>\n",
       "      <th>American,SCORE workshop,adviser,SCORE Client,SCORE, Mentors,free,Biz Tip of the Week,Score advisors,Volunteers,SCORE.org,Score volunteer,SCORE Foundation,volunteers,SCOREMentors,business,Score volunteering,Service Corps of Retired Executives,SCORE topics,Workshops,consulting,score mentor,Score volunteers,Nonprofit,Mentors,Mentor,score mentors,Score blog,SCORE,SCORE Workshop,SCORE program,non-profit,SCORE Chapter,Workshop,nonprofit,score dot org,SCOREFans,Score advisor,ASK SCORE,Business,Small,Score advisers,assistance,SCORE Mentors,workshops,Championship,Score business plan,chapters,Score webinar,score.org,SCORE dot org,SCORE Workshops,SCORE awards,volunteer,SCORE Association</th>\n",
       "      <td>2</td>\n",
       "    </tr>\n",
       "    <tr>\n",
       "      <th>American,Service Corps of Retired Executives,Workshop,SCORE, Mentors,Score webinar,SCORE Chapter,Score volunteer,SCORE Client,business,SCORE Foundation,SCORE.org,Score advisor,Nonprofit,non-profit,Score blog,SCORE Mentors,volunteer,Score advisers,SCOREMentors,Workshops,SCORE program,Score volunteers,Mentor,SCORE Association,nonprofit,SCOREFans,SCORE,score mentor,SCORE topics,Score advisors,consulting,SCORE dot org,adviser,Mentors,Volunteers,ASK SCORE,assistance,score.org,free,Score volunteering,Business,Championship,workshops,SCORE awards,Biz Tip of the Week,SCORE Workshop,SCORE workshop,Small,score dot org,chapters,score mentors,Score business plan,SCORE Workshops,volunteers</th>\n",
       "      <td>7</td>\n",
       "    </tr>\n",
       "    <tr>\n",
       "      <th>American,Service Corps of Retired Executives,chapters,SCOREMentors,SCORE Association,Mentors,score mentors,free,SCORE Workshop,business,Nonprofit,Workshops,Score business plan,Score volunteering,volunteers,Biz Tip of the Week,score mentor,volunteer,SCORE Client,Small,Score webinar,Score volunteers,non-profit,SCORE, Mentors,SCORE Mentors,Mentor,score.org,workshops,Score volunteer,score dot org,SCORE workshop,consulting,Volunteers,SCORE,Business,Score blog,SCORE topics,SCORE awards,Score advisors,nonprofit,Score advisor,SCORE dot org,Workshop,SCORE Foundation,adviser,SCOREFans,SCORE Chapter,Score advisers,assistance,Championship,SCORE.org,SCORE Workshops,SCORE program,ASK SCORE</th>\n",
       "      <td>4</td>\n",
       "    </tr>\n",
       "    <tr>\n",
       "      <th>American,score mentor,SCORE awards,chapters,Mentors,SCORE topics,Score advisers,Workshop,Score advisors,Workshops,consulting,score.org,Score volunteering,Score business plan,adviser,Score webinar,SCORE.org,SCORE Workshops,volunteers,volunteer,SCORE Foundation,score mentors,SCORE program,Service Corps of Retired Executives,SCOREMentors,business,SCORE Association,Score blog,score dot org,SCORE workshop,SCORE Client,Biz Tip of the Week,Score advisor,SCORE Chapter,SCORE Workshop,assistance,Score volunteers,Championship,Score volunteer,Business,SCORE Mentors,Mentor,Volunteers,Nonprofit,free,ASK SCORE,workshops,Small,SCORE,non-profit,SCOREFans,SCORE dot org,SCORE, Mentors,nonprofit</th>\n",
       "      <td>30</td>\n",
       "    </tr>\n",
       "    <tr>\n",
       "      <th>American,score mentors,business,SCORE, Mentors,Score advisors,volunteers,SCORE Client,SCORE topics,Small,Score advisor,SCOREMentors,Business,SCORE awards,SCORE Chapter,Championship,SCOREFans,Mentor,non-profit,volunteer,Volunteers,consulting,SCORE Foundation,SCORE Workshop,SCORE Association,Biz Tip of the Week,Service Corps of Retired Executives,Score business plan,Workshops,Mentors,SCORE dot org,score dot org,SCORE.org,Score volunteer,Score webinar,Score volunteering,nonprofit,workshops,SCORE program,SCORE,score.org,score mentor,free,Score volunteers,Score blog,ASK SCORE,SCORE Workshops,SCORE workshop,chapters,SCORE Mentors,assistance,Nonprofit,Workshop,adviser,Score advisers</th>\n",
       "      <td>2</td>\n",
       "    </tr>\n",
       "    <tr>\n",
       "      <th>American,volunteers,non-profit,SCORE Workshop,SCOREMentors,free,SCORE,adviser,Score business plan,SCORE awards,Score volunteers,SCORE dot org,Score volunteer,SCORE, Mentors,volunteer,Championship,SCORE.org,ASK SCORE,Score advisor,Biz Tip of the Week,Score blog,chapters,Service Corps of Retired Executives,SCORE Chapter,SCORE workshop,consulting,Workshops,SCORE Client,score mentors,Score webinar,Score volunteering,nonprofit,score dot org,SCORE Association,Workshop,Mentor,workshops,Score advisers,SCORE Mentors,business,Volunteers,Score advisors,SCORE Foundation,score mentor,Small,SCORE topics,Mentors,assistance,Nonprofit,Business,score.org,SCORE program,SCOREFans,SCORE Workshops</th>\n",
       "      <td>17</td>\n",
       "    </tr>\n",
       "    <tr>\n",
       "      <th>Amy,Workers,Tools,Pieh,Supplies,Need</th>\n",
       "      <td>1</td>\n",
       "    </tr>\n",
       "    <tr>\n",
       "      <th>Biz Tip of the Week,ASK SCORE,workshops,free,Score volunteer,Workshop,Score webinar,score mentors,SCORE Workshops,SCOREMentors,SCORE awards,Mentor,volunteers,SCORE program,SCORE.org,SCORE Foundation,nonprofit,score.org,Mentors,Score volunteers,non-profit,score dot org,SCORE,Championship,Business,SCORE workshop,SCORE Client,Volunteers,score mentor,Score advisor,Score advisors,chapters,Workshops,SCOREFans,SCORE dot org,Nonprofit,American,SCORE Association,Score volunteering,SCORE Chapter,consulting,SCORE, Mentors,Score blog,SCORE topics,business,SCORE Workshop,volunteer,Service Corps of Retired Executives,Score advisers,assistance,SCORE Mentors,adviser,Score business plan,Small</th>\n",
       "      <td>2</td>\n",
       "    </tr>\n",
       "    <tr>\n",
       "      <th>Biz Tip of the Week,Mentors,SCORE program,ASK SCORE,Score webinar,business,chapters,Championship,Score business plan,assistance,Score volunteers,American,SCORE Workshop,Workshop,SCOREFans,SCORE, Mentors,Volunteers,non-profit,SCORE Association,SCORE Foundation,Score volunteering,score.org,Score advisers,Score advisors,SCORE Mentors,Small,nonprofit,SCOREMentors,free,SCORE.org,volunteers,SCORE Client,Score volunteer,score dot org,SCORE workshop,Mentor,Score advisor,SCORE Workshops,adviser,Workshops,SCORE Chapter,volunteer,consulting,Business,score mentors,score mentor,SCORE dot org,SCORE topics,SCORE,Service Corps of Retired Executives,SCORE awards,Nonprofit,workshops,Score blog</th>\n",
       "      <td>28</td>\n",
       "    </tr>\n",
       "    <tr>\n",
       "      <th>Biz Tip of the Week,SCORE Association,SCORE Chapter,non-profit,Workshops,SCOREFans,SCORE, Mentors,Score blog,Volunteers,Score volunteers,adviser,SCORE workshop,score mentors,Score webinar,SCORE Foundation,Mentors,Score volunteer,SCOREMentors,SCORE program,SCORE Mentors,nonprofit,score.org,Score volunteering,business,volunteer,assistance,SCORE Client,workshops,SCORE.org,Score advisers,Mentor,volunteers,Nonprofit,SCORE dot org,score dot org,SCORE Workshops,chapters,Championship,SCORE,Business,Score business plan,ASK SCORE,Score advisor,Small,SCORE topics,Service Corps of Retired Executives,SCORE Workshop,American,SCORE awards,consulting,Workshop,Score advisors,score mentor,free</th>\n",
       "      <td>9</td>\n",
       "    </tr>\n",
       "    <tr>\n",
       "      <th>Biz Tip of the Week,SCORE Client,SCORE Mentors,SCORE,Score blog,non-profit,SCOREMentors,volunteer,SCORE workshop,free,nonprofit,Championship,Service Corps of Retired Executives,Score volunteers,SCORE.org,Small,Score advisors,volunteers,score mentor,Score advisers,Nonprofit,SCORE dot org,Workshop,Score webinar,Workshops,consulting,score mentors,score.org,Score advisor,SCOREFans,assistance,Score volunteer,ASK SCORE,Business,Score business plan,adviser,Volunteers,SCORE, Mentors,Mentor,SCORE Workshops,workshops,SCORE topics,SCORE Workshop,SCORE awards,business,American,Score volunteering,score dot org,Mentors,chapters,SCORE Foundation,SCORE program,SCORE Chapter,SCORE Association</th>\n",
       "      <td>3</td>\n",
       "    </tr>\n",
       "    <tr>\n",
       "      <th>Biz Tip of the Week,SCORE Client,Score volunteers,business,SCORE.org,score mentor,adviser,volunteer,Score business plan,American,Score advisers,chapters,Workshop,SCORE, Mentors,SCORE Workshops,nonprofit,SCORE topics,SCORE Chapter,consulting,score dot org,Workshops,Score blog,SCORE Association,workshops,volunteers,Mentor,Championship,Score volunteer,Score webinar,free,Nonprofit,non-profit,Score volunteering,SCOREFans,Service Corps of Retired Executives,score mentors,SCORE dot org,Small,score.org,SCORE workshop,SCORE awards,SCORE program,SCORE Mentors,SCORE Foundation,Score advisors,SCORE,ASK SCORE,Business,Score advisor,Mentors,SCORE Workshop,SCOREMentors,assistance,Volunteers</th>\n",
       "      <td>12</td>\n",
       "    </tr>\n",
       "    <tr>\n",
       "      <th>Biz Tip of the Week,SCORE, Mentors,SCORE awards,SCORE topics,consulting,chapters,Score advisors,Mentor,American,SCORE Association,score mentor,Score business plan,Championship,Workshop,score dot org,Score volunteers,Score advisor,non-profit,adviser,nonprofit,assistance,Mentors,volunteers,score mentors,Score volunteer,Score blog,Nonprofit,SCORE.org,Business,Volunteers,workshops,Score webinar,SCORE dot org,SCORE Workshop,volunteer,Workshops,business,Score volunteering,SCORE Workshops,Small,SCORE program,SCORE Mentors,score.org,SCORE Chapter,Score advisers,SCOREFans,SCORE,free,SCORE Foundation,SCORE workshop,SCOREMentors,ASK SCORE,Service Corps of Retired Executives,SCORE Client</th>\n",
       "      <td>2</td>\n",
       "    </tr>\n",
       "    <tr>\n",
       "      <th>Biz Tip of the Week,SCORE, Mentors,score mentor,non-profit,score dot org,SCORE,consulting,SCORE dot org,Score webinar,Volunteers,adviser,SCORE program,Score advisers,Championship,SCORE Chapter,American,score mentors,Score volunteer,business,nonprofit,chapters,Score business plan,assistance,SCOREMentors,free,SCORE topics,Score advisor,Service Corps of Retired Executives,SCORE Association,Score volunteers,SCORE workshop,SCORE Mentors,volunteers,Workshops,SCOREFans,volunteer,SCORE Workshops,SCORE Client,SCORE.org,Score blog,Nonprofit,ASK SCORE,Score advisors,workshops,SCORE Foundation,SCORE Workshop,Mentor,Score volunteering,SCORE awards,Small,Workshop,score.org,Mentors,Business</th>\n",
       "      <td>2</td>\n",
       "    </tr>\n",
       "    <tr>\n",
       "      <th>Biz Tip of the Week,Score volunteer,ASK SCORE,SCOREFans,Workshops,score mentor,Score blog,SCORE.org,SCORE Workshop,SCORE Mentors,Mentor,score dot org,SCOREMentors,Score business plan,Workshop,business,SCORE dot org,volunteers,Score advisers,SCORE Association,non-profit,Score advisors,consulting,American,Volunteers,Score volunteering,assistance,SCORE topics,nonprofit,SCORE,Mentors,SCORE Chapter,chapters,SCORE Foundation,workshops,Business,score.org,score mentors,Score volunteers,SCORE program,free,Nonprofit,Score webinar,volunteer,SCORE awards,SCORE Workshops,Score advisor,adviser,Small,SCORE workshop,SCORE, Mentors,Service Corps of Retired Executives,Championship,SCORE Client</th>\n",
       "      <td>4</td>\n",
       "    </tr>\n",
       "    <tr>\n",
       "      <th>Biz Tip of the Week,Service Corps of Retired Executives,SCOREFans,Score volunteer,Nonprofit,Score volunteers,volunteer,Score blog,non-profit,adviser,score mentor,SCORE topics,Workshop,Score advisor,score dot org,score mentors,SCORE,Score business plan,score.org,American,Volunteers,SCORE Chapter,Business,SCORE Workshop,Workshops,SCORE Workshops,Score webinar,SCORE Association,SCORE program,chapters,assistance,Score volunteering,SCORE workshop,nonprofit,Score advisors,free,consulting,SCORE awards,SCORE Mentors,SCOREMentors,Score advisers,Championship,Small,Mentors,volunteers,SCORE Client,Mentor,SCORE.org,ASK SCORE,workshops,SCORE dot org,SCORE, Mentors,business,SCORE Foundation</th>\n",
       "      <td>116</td>\n",
       "    </tr>\n",
       "    <tr>\n",
       "      <th>Biz Tip of the Week,Workshop,SCORE dot org,Nonprofit,Score volunteers,assistance,SCORE Chapter,SCORE program,Score advisers,Business,adviser,Small,SCORE awards,free,SCORE workshop,score dot org,American,nonprofit,SCORE Client,workshops,score mentors,Score business plan,SCORE Association,SCOREFans,Score webinar,SCORE Workshops,non-profit,SCORE topics,Score advisors,volunteer,SCORE, Mentors,Score volunteer,SCOREMentors,SCORE Workshop,score.org,SCORE Mentors,volunteers,Score blog,Mentors,Workshops,SCORE.org,business,Championship,Service Corps of Retired Executives,score mentor,Score advisor,consulting,ASK SCORE,SCORE Foundation,Score volunteering,Mentor,chapters,SCORE,Volunteers</th>\n",
       "      <td>21</td>\n",
       "    </tr>\n",
       "    <tr>\n",
       "      <th>Biz Tip of the Week,nonprofit,business,SCORE, Mentors,SCORE,Workshops,score.org,score mentor,SCORE.org,volunteer,Score volunteers,SCORE Workshop,free,Business,Score business plan,Score advisor,SCORE topics,SCORE Workshops,SCORE Foundation,SCORE Client,American,SCORE Chapter,Score volunteer,SCOREFans,assistance,SCORE dot org,Nonprofit,SCORE Mentors,Score advisers,Score webinar,SCOREMentors,Small,SCORE awards,Mentor,Score volunteering,Score advisors,adviser,Score blog,SCORE program,Volunteers,SCORE Association,SCORE workshop,Championship,score mentors,volunteers,Service Corps of Retired Executives,chapters,Mentors,workshops,consulting,ASK SCORE,score dot org,Workshop,non-profit</th>\n",
       "      <td>9</td>\n",
       "    </tr>\n",
       "    <tr>\n",
       "      <th>Biz Tip of the Week,score dot org,Workshops,SCORE program,SCORE workshop,SCORE Client,nonprofit,SCORE topics,score mentor,SCOREMentors,assistance,non-profit,business,Business,workshops,SCORE Chapter,ASK SCORE,SCORE, Mentors,SCORE Workshop,SCORE Workshops,score mentors,score.org,volunteer,SCOREFans,SCORE,American,Score volunteering,chapters,adviser,Championship,Score advisors,Mentor,Score volunteers,SCORE Foundation,Volunteers,Score business plan,Workshop,SCORE Association,SCORE awards,Score blog,Score webinar,Score volunteer,Nonprofit,free,SCORE Mentors,SCORE dot org,Score advisers,Mentors,consulting,SCORE.org,Score advisor,Small,volunteers,Service Corps of Retired Executives</th>\n",
       "      <td>2</td>\n",
       "    </tr>\n",
       "  </tbody>\n",
       "</table>\n",
       "</div>"
      ],
      "text/plain": [
       "                                                      0\n",
       "Keywords                                               \n",
       "ASK SCORE,Business,Score advisers,SCORE, Mentor...    8\n",
       "ASK SCORE,Business,Score business plan,Score vo...   10\n",
       "ASK SCORE,SCORE, Mentors,Mentor,SCORE Foundatio...    7\n",
       "ASK SCORE,SCOREFans,SCORE dot org,SCORE Associa...    8\n",
       "ASK SCORE,Score volunteering,Biz Tip of the Wee...    3\n",
       "ASK SCORE,assistance,Biz Tip of the Week,volunt...    6\n",
       "ASK SCORE,assistance,Service Corps of Retired E...   10\n",
       "American,Biz Tip of the Week,Nonprofit,Score ad...    6\n",
       "American,SCORE Foundation,chapters,SCORE.org,SC...    8\n",
       "American,SCORE Workshop,SCORE program,SCORE.org...   25\n",
       "American,SCORE workshop,Championship,Score volu...    3\n",
       "American,SCORE workshop,adviser,SCORE Client,SC...    2\n",
       "American,Service Corps of Retired Executives,Wo...    7\n",
       "American,Service Corps of Retired Executives,ch...    4\n",
       "American,score mentor,SCORE awards,chapters,Men...   30\n",
       "American,score mentors,business,SCORE, Mentors,...    2\n",
       "American,volunteers,non-profit,SCORE Workshop,S...   17\n",
       "Amy,Workers,Tools,Pieh,Supplies,Need                  1\n",
       "Biz Tip of the Week,ASK SCORE,workshops,free,Sc...    2\n",
       "Biz Tip of the Week,Mentors,SCORE program,ASK S...   28\n",
       "Biz Tip of the Week,SCORE Association,SCORE Cha...    9\n",
       "Biz Tip of the Week,SCORE Client,SCORE Mentors,...    3\n",
       "Biz Tip of the Week,SCORE Client,Score voluntee...   12\n",
       "Biz Tip of the Week,SCORE, Mentors,SCORE awards...    2\n",
       "Biz Tip of the Week,SCORE, Mentors,score mentor...    2\n",
       "Biz Tip of the Week,Score volunteer,ASK SCORE,S...    4\n",
       "Biz Tip of the Week,Service Corps of Retired Ex...  116\n",
       "Biz Tip of the Week,Workshop,SCORE dot org,Nonp...   21\n",
       "Biz Tip of the Week,nonprofit,business,SCORE, M...    9\n",
       "Biz Tip of the Week,score dot org,Workshops,SCO...    2"
      ]
     },
     "execution_count": 11,
     "metadata": {},
     "output_type": "execute_result"
    }
   ],
   "source": [
    "a = pd.DataFrame(df.groupby('Keywords').size())\n",
    "\n",
    "a.head(30)"
   ]
  },
  {
   "cell_type": "markdown",
   "metadata": {},
   "source": []
  }
 ],
 "metadata": {
  "kernelspec": {
   "display_name": "base",
   "language": "python",
   "name": "python3"
  },
  "language_info": {
   "codemirror_mode": {
    "name": "ipython",
    "version": 3
   },
   "file_extension": ".py",
   "mimetype": "text/x-python",
   "name": "python",
   "nbconvert_exporter": "python",
   "pygments_lexer": "ipython3",
   "version": "3.9.7"
  },
  "orig_nbformat": 4,
  "vscode": {
   "interpreter": {
    "hash": "f7fd980798d652a2d5051b38750aec1738a76adfb278f2a5080f6710af88191c"
   }
  }
 },
 "nbformat": 4,
 "nbformat_minor": 2
}
