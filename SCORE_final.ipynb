{
 "cells": [
  {
   "cell_type": "code",
   "execution_count": 382,
   "metadata": {},
   "outputs": [],
   "source": [
    "import pandas as pd\n",
    "import matplotlib.pyplot as plt\n",
    "import numpy as np\n",
    "from datetime import datetime\n",
    "from sklearn.model_selection import train_test_split\n",
    "from datetime import datetime\n",
    "from sklearn.feature_selection import SelectKBest, mutual_info_classif\n"
   ]
  },
  {
   "attachments": {},
   "cell_type": "markdown",
   "metadata": {},
   "source": [
    "# Cleaning"
   ]
  },
  {
   "cell_type": "code",
   "execution_count": 383,
   "metadata": {},
   "outputs": [],
   "source": [
    "df = pd.read_csv('critical_mention_report_2023-02-17.csv')\n",
    "date_format = \"%b %d, %Y %I:%M %p %Z\""
   ]
  },
  {
   "cell_type": "code",
   "execution_count": 384,
   "metadata": {},
   "outputs": [],
   "source": [
    "#Cleaning Data\n",
    "df = df.dropna(axis=1, how='all')\n",
    "\n",
    "df = df.drop(['Online + Print Author', 'Online + Print Source Page', 'Text', 'URL', 'Last Updated', 'Text ID', 'Thumbnail', 'Clip ID', 'License Name', 'Copyright'], axis=1)\n",
    "\n",
    "#for exporting cleaned data\n",
    "def export_dropna(df):\n",
    "    df.to_csv('score_data_cleaned.csv', index=False)\n",
    "#export_dropna(df)\n"
   ]
  },
  {
   "cell_type": "code",
   "execution_count": 385,
   "metadata": {},
   "outputs": [],
   "source": [
    "#Making the Dates Datetime objects\n",
    "date_format_1 = '%m/%d/%Y %I:%M:%S %p'\n",
    "date_format_2 = '%I:%M %p'\n",
    "\n",
    "# Define a function to convert a single time string to a datetime object, removing 'CDT'\n",
    "def convert_time_string(time_str):\n",
    "    # Remove the last 4 characters (' CDT') from the time string\n",
    "    time_str = time_str[:-4]\n",
    "    \n",
    "    # Parse the time string to a datetime object without timezone information\n",
    "    datetime_obj = datetime.strptime(time_str, date_format_2)\n",
    "    \n",
    "    return datetime_obj\n",
    "\n",
    "# Apply the function to the 'time_str' column to create a new 'datetime' column\n",
    "df['Broadcast Time'] = df['Broadcast Time'].apply(convert_time_string)\n",
    "\n",
    "\n",
    "df['Date and Time'] = df['Time Clip'].apply(lambda x: datetime.strptime(x, date_format_1))"
   ]
  },
  {
   "cell_type": "code",
   "execution_count": 386,
   "metadata": {},
   "outputs": [],
   "source": [
    "#Getting rid of Local Audience and Publicity Value, after talking to Lori she said that these were not necesssary since 1/4 of the data did not exist\n",
    "\n",
    "df.groupby('Estimated Local Audience').size() # 2595 values that are zero\n",
    "df.groupby('Estimated Local Publicity Value').size()\n",
    "len(df) #8292 total values\n",
    "\n",
    "df = df.drop(['Estimated Local Audience', 'Estimated Local Publicity Value'], axis=1)\n"
   ]
  },
  {
   "attachments": {},
   "cell_type": "markdown",
   "metadata": {},
   "source": [
    "# Dissecting Different types of Press Content"
   ]
  },
  {
   "cell_type": "code",
   "execution_count": 387,
   "metadata": {},
   "outputs": [],
   "source": [
    "df['Press Content'] = pd.Series([[]] * len(df))\n",
    "df['Keywords'] = df['Keywords'].astype(str)"
   ]
  },
  {
   "attachments": {},
   "cell_type": "markdown",
   "metadata": {},
   "source": [
    "# Ask SCORE"
   ]
  },
  {
   "cell_type": "code",
   "execution_count": 388,
   "metadata": {},
   "outputs": [
    {
     "data": {
      "text/plain": [
       "Ask SCORE\n",
       "False    8248\n",
       "True       44\n",
       "dtype: int64"
      ]
     },
     "execution_count": 388,
     "metadata": {},
     "output_type": "execute_result"
    }
   ],
   "source": [
    "#Creates an ASK SCORE column by checking if ASK SCORE is mentioned in the description of the clip\n",
    "def add_ask_score(keywords):\n",
    "    if 'ask score' in keywords.lower():\n",
    "        return True\n",
    "    else:\n",
    "        return False\n",
    "    \n",
    "df['Ask SCORE'] = df['Plain Text'].apply(lambda x: add_ask_score(x))\n",
    "\n",
    "df.groupby('Ask SCORE').size()"
   ]
  },
  {
   "attachments": {},
   "cell_type": "markdown",
   "metadata": {},
   "source": [
    "# Radio PSA"
   ]
  },
  {
   "cell_type": "code",
   "execution_count": 389,
   "metadata": {},
   "outputs": [
    {
     "data": {
      "text/plain": [
       "Radio PSA\n",
       "False    5768\n",
       "True     2524\n",
       "dtype: int64"
      ]
     },
     "execution_count": 389,
     "metadata": {},
     "output_type": "execute_result"
    }
   ],
   "source": [
    "#The Radio PSAs were outlined as Radio in Media Type. \n",
    "def add_radio(x):\n",
    "    if x == 'RADIO':\n",
    "        return True\n",
    "    else:\n",
    "        return False\n",
    "    \n",
    "df['Radio PSA'] = df['Media Type'].apply(lambda x: add_radio(x))\n",
    "\n",
    "df.groupby('Radio PSA').size()"
   ]
  },
  {
   "attachments": {},
   "cell_type": "markdown",
   "metadata": {},
   "source": [
    "# Press Release"
   ]
  },
  {
   "cell_type": "code",
   "execution_count": 390,
   "metadata": {},
   "outputs": [
    {
     "data": {
      "text/plain": [
       "Press Release\n",
       "False    8100\n",
       "True      192\n",
       "dtype: int64"
      ]
     },
     "execution_count": 390,
     "metadata": {},
     "output_type": "execute_result"
    }
   ],
   "source": [
    "#Press Releases have 'Press' in the Online + Print Source Name, so I filtered for that when trying to find out which ones were in this category\n",
    "def add_press_release(x):\n",
    "    if isinstance(x, str) and 'Press' in x:\n",
    "        return True\n",
    "    else:\n",
    "        return False\n",
    "    \n",
    "df['Press Release'] = df['Online + Print Source Name'].apply(lambda x: add_press_release(x))\n",
    "\n",
    "df.groupby('Press Release').size()"
   ]
  },
  {
   "attachments": {},
   "cell_type": "markdown",
   "metadata": {},
   "source": [
    "# Local Chapter Workshops"
   ]
  },
  {
   "cell_type": "code",
   "execution_count": 391,
   "metadata": {},
   "outputs": [
    {
     "data": {
      "text/plain": [
       "Local Chapter Workshops\n",
       "False    7622\n",
       "True      670\n",
       "dtype: int64"
      ]
     },
     "execution_count": 391,
     "metadata": {},
     "output_type": "execute_result"
    }
   ],
   "source": [
    "#Filtered the Text description of the clip to see if it related to a workshop of some kind\n",
    "def add_chapter_workshops(text):\n",
    "    if 'workshops' in text.lower():\n",
    "        return True\n",
    "    else:\n",
    "        return False\n",
    "    \n",
    "df['Local Chapter Workshops'] = df['Plain Text'].apply(lambda x: add_chapter_workshops(x))\n",
    "\n",
    "df.groupby('Local Chapter Workshops').size()"
   ]
  },
  {
   "attachments": {},
   "cell_type": "markdown",
   "metadata": {},
   "source": [
    "# Pitch Placements"
   ]
  },
  {
   "cell_type": "code",
   "execution_count": 392,
   "metadata": {},
   "outputs": [
    {
     "data": {
      "text/plain": [
       "Pitch Placements\n",
       "False    8002\n",
       "True      290\n",
       "dtype: int64"
      ]
     },
     "execution_count": 392,
     "metadata": {},
     "output_type": "execute_result"
    }
   ],
   "source": [
    "#Filtered the Text description of the clip to see if it related to a pitch competition of some kind\n",
    "def add_pitch_placements(text):\n",
    "    if 'pitch' in text.lower():\n",
    "        return True\n",
    "    else:\n",
    "        return False\n",
    "    \n",
    "df['Pitch Placements'] = df['Plain Text'].apply(lambda x: add_pitch_placements(x))\n",
    "\n",
    "df.groupby('Pitch Placements').size()"
   ]
  },
  {
   "attachments": {},
   "cell_type": "markdown",
   "metadata": {},
   "source": [
    "# Charts"
   ]
  },
  {
   "cell_type": "code",
   "execution_count": 393,
   "metadata": {},
   "outputs": [
    {
     "data": {
      "text/html": [
       "<div>\n",
       "<style scoped>\n",
       "    .dataframe tbody tr th:only-of-type {\n",
       "        vertical-align: middle;\n",
       "    }\n",
       "\n",
       "    .dataframe tbody tr th {\n",
       "        vertical-align: top;\n",
       "    }\n",
       "\n",
       "    .dataframe thead th {\n",
       "        text-align: right;\n",
       "    }\n",
       "</style>\n",
       "<table border=\"1\" class=\"dataframe\">\n",
       "  <thead>\n",
       "    <tr style=\"text-align: right;\">\n",
       "      <th></th>\n",
       "      <th>Press Content</th>\n",
       "      <th>Total Entries</th>\n",
       "      <th>Average Estimated National Audience</th>\n",
       "      <th>Average Estimated National Publicity Value</th>\n",
       "    </tr>\n",
       "  </thead>\n",
       "  <tbody>\n",
       "    <tr>\n",
       "      <th>0</th>\n",
       "      <td>Ask SCORE</td>\n",
       "      <td>44</td>\n",
       "      <td>67933.386364</td>\n",
       "      <td>1203.500000</td>\n",
       "    </tr>\n",
       "    <tr>\n",
       "      <th>1</th>\n",
       "      <td>Radio PSA</td>\n",
       "      <td>2524</td>\n",
       "      <td>28007.563788</td>\n",
       "      <td>86.601030</td>\n",
       "    </tr>\n",
       "    <tr>\n",
       "      <th>2</th>\n",
       "      <td>Press Release</td>\n",
       "      <td>192</td>\n",
       "      <td>96022.619792</td>\n",
       "      <td>664.770833</td>\n",
       "    </tr>\n",
       "    <tr>\n",
       "      <th>3</th>\n",
       "      <td>Local Chapter Workshops</td>\n",
       "      <td>670</td>\n",
       "      <td>338351.241791</td>\n",
       "      <td>3068.305970</td>\n",
       "    </tr>\n",
       "    <tr>\n",
       "      <th>4</th>\n",
       "      <td>Pitch Placements</td>\n",
       "      <td>290</td>\n",
       "      <td>551843.479310</td>\n",
       "      <td>6803.448276</td>\n",
       "    </tr>\n",
       "  </tbody>\n",
       "</table>\n",
       "</div>"
      ],
      "text/plain": [
       "             Press Content  Total Entries  \\\n",
       "0                Ask SCORE             44   \n",
       "1                Radio PSA           2524   \n",
       "2            Press Release            192   \n",
       "3  Local Chapter Workshops            670   \n",
       "4         Pitch Placements            290   \n",
       "\n",
       "   Average Estimated National Audience  \\\n",
       "0                         67933.386364   \n",
       "1                         28007.563788   \n",
       "2                         96022.619792   \n",
       "3                        338351.241791   \n",
       "4                        551843.479310   \n",
       "\n",
       "   Average Estimated National Publicity Value  \n",
       "0                                 1203.500000  \n",
       "1                                   86.601030  \n",
       "2                                  664.770833  \n",
       "3                                 3068.305970  \n",
       "4                                 6803.448276  "
      ]
     },
     "execution_count": 393,
     "metadata": {},
     "output_type": "execute_result"
    }
   ],
   "source": [
    "charts = pd.DataFrame()\n",
    "\n",
    "# Titles\n",
    "charts['Press Content'] = ['Ask SCORE', 'Radio PSA', 'Press Release', 'Local Chapter Workshops', 'Pitch Placements']\n",
    "\n",
    "# Total Entries\n",
    "charts['Total Entries'] = 0\n",
    "for i in range(len(charts)):\n",
    "    press_content = charts.loc[i, 'Press Content']\n",
    "    charts.at[i, 'Total Entries'] = (df[press_content] == True).sum()\n",
    "\n",
    "# Average Estimated National Audience\n",
    "charts['Average Estimated National Audience'] = np.nan\n",
    "for i in range(len(charts)):\n",
    "    press_content = charts.loc[i, 'Press Content']\n",
    "    mask = df[press_content] == True\n",
    "    charts.at[i, 'Average Estimated National Audience'] = df.loc[mask, 'Estimated National Audience'].mean()\n",
    "\n",
    "# Average Estimated National Publicity Value\n",
    "charts['Average Estimated National Publicity Value'] = np.nan\n",
    "for i in range(len(charts)):\n",
    "    press_content = charts.loc[i, 'Press Content']\n",
    "    mask = df[press_content] == True\n",
    "    charts.at[i, 'Average Estimated National Publicity Value'] = df.loc[mask, 'Estimated National Publicity Value'].mean()\n",
    "\n",
    "charts\n",
    "\n"
   ]
  },
  {
   "cell_type": "code",
   "execution_count": 394,
   "metadata": {},
   "outputs": [
    {
     "data": {
      "image/png": "[encoded data removed]",
      "text/plain": [
       "<Figure size 432x288 with 1 Axes>"
      ]
     },
     "metadata": {
      "needs_background": "light"
     },
     "output_type": "display_data"
    }
   ],
   "source": [
    "#Total Entries Plot\n",
    "\n",
    "# Data\n",
    "x_values = charts['Press Content']\n",
    "y_values = charts['Total Entries']\n",
    "\n",
    "# Plotting\n",
    "plt.bar(x_values, y_values)\n",
    "\n",
    "# Axis labels\n",
    "plt.xlabel('Press Type')\n",
    "plt.ylabel('Entries')\n",
    "\n",
    "# Title\n",
    "plt.title('Entries per Press Type')\n",
    "\n",
    "#So the names do not overlap\n",
    "plt.xticks(rotation=45)\n",
    "\n",
    "# Display the plot\n",
    "plt.show()"
   ]
  },
  {
   "cell_type": "code",
   "execution_count": 395,
   "metadata": {},
   "outputs": [
    {
     "data": {
      "image/png": "[encoded data removed]",
      "text/plain": [
       "<Figure size 432x288 with 1 Axes>"
      ]
     },
     "metadata": {
      "needs_background": "light"
     },
     "output_type": "display_data"
    }
   ],
   "source": [
    "#Average Estimated Audience Plot\n",
    "\n",
    "# Data\n",
    "x_values = charts['Press Content']\n",
    "y_values = charts['Average Estimated National Audience']\n",
    "\n",
    "# Plotting\n",
    "plt.bar(x_values, y_values)\n",
    "\n",
    "# Axis labels\n",
    "plt.xlabel('Press Type')\n",
    "plt.ylabel('Average Audience')\n",
    "\n",
    "# Title\n",
    "plt.title('Average Audience per Press Type')\n",
    "plt.xticks(rotation=45)\n",
    "\n",
    "# Display the plot\n",
    "plt.show()"
   ]
  },
  {
   "cell_type": "code",
   "execution_count": 396,
   "metadata": {},
   "outputs": [
    {
     "data": {
      "image/png": "[encoded data removed]",
      "text/plain": [
       "<Figure size 432x288 with 1 Axes>"
      ]
     },
     "metadata": {
      "needs_background": "light"
     },
     "output_type": "display_data"
    }
   ],
   "source": [
    "#Total Entries Plot\n",
    "\n",
    "# Data\n",
    "x_values = charts['Press Content']\n",
    "y_values = charts['Average Estimated National Publicity Value']\n",
    "\n",
    "# Plotting\n",
    "plt.bar(x_values, y_values)\n",
    "\n",
    "# Axis labels\n",
    "plt.xlabel('Press Type')\n",
    "plt.ylabel('Average Publicity Value')\n",
    "\n",
    "# Title\n",
    "plt.title('Average Publicity Value per Press Type')\n",
    "plt.xticks(rotation=45)\n",
    "\n",
    "# Display the plot\n",
    "plt.show()"
   ]
  }
 ],
 "metadata": {
  "kernelspec": {
   "display_name": "Python 3",
   "language": "python",
   "name": "python3"
  },
  "language_info": {
   "codemirror_mode": {
    "name": "ipython",
    "version": 3
   },
   "file_extension": ".py",
   "mimetype": "text/x-python",
   "name": "python",
   "nbconvert_exporter": "python",
   "pygments_lexer": "ipython3",
   "version": "3.9.7"
  },
  "orig_nbformat": 4,
  "vscode": {
   "interpreter": {
    "hash": "38cca0c38332a56087b24af0bc80247f4fced29cb4f7f437d91dc159adec9c4e"
   }
  }
 },
 "nbformat": 4,
 "nbformat_minor": 2
}
