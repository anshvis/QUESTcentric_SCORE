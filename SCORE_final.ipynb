{
 "cells": [
  {
   "cell_type": "code",
   "execution_count": 170,
   "metadata": {},
   "outputs": [],
   "source": [
    "import pandas as pd\n",
    "import matplotlib.pyplot as plt\n",
    "import numpy as np\n",
    "from datetime import datetime\n",
    "from sklearn.model_selection import train_test_split\n",
    "from datetime import datetime\n",
    "from sklearn.feature_selection import SelectKBest, mutual_info_classif\n"
   ]
  },
  {
   "attachments": {},
   "cell_type": "markdown",
   "metadata": {},
   "source": [
    "# Cleaning"
   ]
  },
  {
   "cell_type": "code",
   "execution_count": 171,
   "metadata": {},
   "outputs": [],
   "source": [
    "df = pd.read_csv('critical_mention_report_2023-02-17.csv')\n",
    "date_format = \"%b %d, %Y %I:%M %p %Z\""
   ]
  },
  {
   "cell_type": "code",
   "execution_count": 172,
   "metadata": {},
   "outputs": [],
   "source": [
    "#Cleaning Data\n",
    "df = df.dropna(axis=1, how='all')\n",
    "\n",
    "df = df.drop(['Online + Print Source Page', 'Text', 'URL', 'Last Updated', 'Text ID', 'Thumbnail', 'Clip ID', 'License Name', 'Copyright'], axis=1)\n",
    "\n",
    "#for exporting cleaned data\n",
    "def export_dropna(df):\n",
    "    df.to_csv('score_data_cleaned.csv', index=False)\n",
    "#export_dropna(df)\n"
   ]
  },
  {
   "cell_type": "code",
   "execution_count": 173,
   "metadata": {},
   "outputs": [],
   "source": [
    "#Making the Dates Datetime objects\n",
    "date_format_1 = '%m/%d/%Y %I:%M:%S %p'\n",
    "date_format_2 = '%I:%M %p'\n",
    "\n",
    "# Define a function to convert a single time string to a datetime object, removing 'CDT'\n",
    "def convert_time_string(time_str):\n",
    "    # Remove the last 4 characters (' CDT') from the time string\n",
    "    time_str = time_str[:-4]\n",
    "    \n",
    "    # Parse the time string to a datetime object without timezone information\n",
    "    datetime_obj = datetime.strptime(time_str, date_format_2)\n",
    "    \n",
    "    return datetime_obj\n",
    "\n",
    "# Apply the function to the 'time_str' column to create a new 'datetime' column\n",
    "df['Broadcast Time'] = df['Broadcast Time'].apply(convert_time_string)\n",
    "\n",
    "\n",
    "df['Date and Time'] = df['Time Clip'].apply(lambda x: datetime.strptime(x, date_format_1))"
   ]
  },
  {
   "cell_type": "code",
   "execution_count": 174,
   "metadata": {},
   "outputs": [],
   "source": [
    "#Getting rid of Local Audience and Publicity Value, after talking to Lori she said that these were not necesssary since 1/4 of the data did not exist\n",
    "\n",
    "df.groupby('Estimated Local Audience').size() # 2595 values that are zero\n",
    "df.groupby('Estimated Local Publicity Value').size()\n",
    "len(df) #8292 total values\n",
    "\n",
    "df = df.drop(['Estimated Local Audience', 'Estimated Local Publicity Value'], axis=1)\n"
   ]
  },
  {
   "attachments": {},
   "cell_type": "markdown",
   "metadata": {},
   "source": [
    "# Dissecting Different types of Press Content"
   ]
  },
  {
   "cell_type": "code",
   "execution_count": 175,
   "metadata": {},
   "outputs": [],
   "source": [
    "df['Press Content'] = pd.Series([[]] * len(df))\n",
    "df['Keywords'] = df['Keywords'].astype(str)"
   ]
  },
  {
   "attachments": {},
   "cell_type": "markdown",
   "metadata": {},
   "source": [
    "# Ask SCORE"
   ]
  },
  {
   "cell_type": "code",
   "execution_count": 176,
   "metadata": {},
   "outputs": [
    {
     "data": {
      "text/plain": [
       "Ask SCORE\n",
       "False    8102\n",
       "True      190\n",
       "dtype: int64"
      ]
     },
     "execution_count": 176,
     "metadata": {},
     "output_type": "execute_result"
    }
   ],
   "source": [
    "#Checks for 'ASK SCORE' or 'Business Tips from SCORE' in title\n",
    "def add_ask_score(title):\n",
    "    if isinstance(title, str) and ('ask score' in title.lower() or 'business tips from score' in title.lower()):\n",
    "        return True\n",
    "    else:\n",
    "        return False\n",
    "    \n",
    "ask_score_authors = ['Marc Goldberg',\n",
    "                     'Dean Swanson', 'Steve Wolfson', 'Gray Poehler',\n",
    "                     'Bill Nordbrock', 'Ken Sethney', 'Tina Dettman-Bielefeldt', 'Susan Chandler', \n",
    "                     'Harvey Mackay']\n",
    "\n",
    "ask_score_authors = [x.lower() for x in ask_score_authors]\n",
    "\n",
    "#Checks if one of the common ask score authors wrote the article\n",
    "def add_ask_score_authors(author):\n",
    "    if isinstance(author, str) and author.lower() in ask_score_authors:\n",
    "        return True\n",
    "    else:\n",
    "        return False\n",
    "\n",
    "titles = df['Article Title'].apply(lambda x: add_ask_score(x))\n",
    "authors = df['Online + Print Author'].apply(lambda x: add_ask_score_authors(x))\n",
    "\n",
    "df['Ask SCORE'] = titles | authors \n",
    "\n",
    "df.groupby('Ask SCORE').size()\n"
   ]
  },
  {
   "attachments": {},
   "cell_type": "markdown",
   "metadata": {},
   "source": [
    "# Radio PSA"
   ]
  },
  {
   "cell_type": "code",
   "execution_count": 177,
   "metadata": {},
   "outputs": [
    {
     "data": {
      "text/plain": [
       "Radio PSA\n",
       "False    5768\n",
       "True     2524\n",
       "dtype: int64"
      ]
     },
     "execution_count": 177,
     "metadata": {},
     "output_type": "execute_result"
    }
   ],
   "source": [
    "#The Radio PSAs were outlined as Radio in Media Type. \n",
    "def add_radio(x):\n",
    "    if x == 'RADIO':\n",
    "        return True\n",
    "    else:\n",
    "        return False\n",
    "    \n",
    "df['Radio PSA'] = df['Media Type'].apply(lambda x: add_radio(x))\n",
    "\n",
    "df.groupby('Radio PSA').size()"
   ]
  },
  {
   "attachments": {},
   "cell_type": "markdown",
   "metadata": {},
   "source": [
    "# Press Release"
   ]
  },
  {
   "cell_type": "code",
   "execution_count": 178,
   "metadata": {},
   "outputs": [
    {
     "data": {
      "text/plain": [
       "Press Release\n",
       "False    8252\n",
       "True       40\n",
       "dtype: int64"
      ]
     },
     "execution_count": 178,
     "metadata": {},
     "output_type": "execute_result"
    }
   ],
   "source": [
    "#Press Releases were all released on the SCORE website, so we put all the titles in an array and checked if the titles showed up in the critical mention data\n",
    "\n",
    "press_releases = [\n",
    "    'SCORE and SBA to Co-Host National Small Business Week Virtual Summit May 2-3', \n",
    "    'Small Businesses Thrive with Support from SCORE Volunteer Corps', \n",
    "    'Strong Credit is Crucial For Small Business Owners Seeking Funding', \n",
    "    'Women Entrepreneurs Build Businesses, Create Jobs and Drive Economic Impact', \n",
    "    'SCORE Broward Awarded 2023 National Chapter of the Year (COTY) for Outstanding Service to Small Businesses', \n",
    "    'Black-Owned Businesses Fuel Economic Impact with Growth and Optimism, Funding Remains a Top Challenge', \n",
    "    'From Startup to Shark Tank: Small Businesses Launch and Grow With Mentoring Support', \n",
    "    'Businesses Must Plan Now for Economic Challenges, Funding in Year Ahead', \n",
    "    'Small Business Shopping Supports Local and National Economies, Says SCORE', \n",
    "    'Small Business Resource Hub for Veterans Provides Support, Highlights Economic Impact', \n",
    "    'Entrepreneurship Offers the Formerly Incarcerated a Path Forward, Hope', \n",
    "    'SCORE - Mentors to America\\'s Small Businesses - Welcomes New Board Members', \n",
    "    'Rural Small Businesses Seek Talent, Technology to Succeed in Digital Age', \n",
    "    'Hispanic-Owned Small Businesses are Starting at Record Rates, but Access to Funding Remains a Stark Challenge', \n",
    "    'Rural Entrepreneurs Report Growing Economic Anxiety', \n",
    "    'Entrepreneurs Compete for National Exposure in ‘Perfect Pitch’ Event', \n",
    "    'For Small Businesses Suffering from Current Economic Challenges, SCORE Provides Support', \n",
    "    'Rural Entrepreneurs Resource Hub Launched by SCORE Small Business Mentors', \n",
    "    'LGBTQ+ Entrepreneurs Positively Impact the U.S. Economy', \n",
    "    'Rural Small Businesses Play Key Factor in American Economic Growth but Experience Roadblocks to Success', \n",
    "    'Small Businesses Fight Back and Adopt New Strategies as Inflation Squeezes Profits', \n",
    "    'SCORE Small Business Mentors Launches Hub for Asian American and Pacific Islanders', \n",
    "    'SCORE Small Business Mentors and SBA to Co-Host National Small Business Week Virtual Summit May 2-5', \n",
    "    'Small Business Concerns Around Inflation Grow As Prices Soar and Economic Instability Continues', \n",
    "    '25,000 Small Businesses Launched Through SCORE Volunteer Corps', \n",
    "    'Small Business Struggles Continue Amid Economic Uncertainty']\n",
    "\n",
    "press_releases = [x.lower() for x in press_releases]\n",
    "\n",
    "#Filtered to see if Success Story businesses were mentioned\n",
    "def add_press_release(text):\n",
    "    for release in press_releases:\n",
    "        if release in text.lower():\n",
    "            return True \n",
    "    return False\n",
    "\n",
    "df['Press Release'] = df['Plain Text'].apply(lambda x: add_press_release(x))\n",
    "\n",
    "df.groupby('Press Release').size()"
   ]
  },
  {
   "attachments": {},
   "cell_type": "markdown",
   "metadata": {},
   "source": [
    "# Local Chapter Workshops"
   ]
  },
  {
   "cell_type": "code",
   "execution_count": 179,
   "metadata": {},
   "outputs": [
    {
     "data": {
      "text/plain": [
       "Local Chapter Workshops\n",
       "False    7460\n",
       "True      832\n",
       "dtype: int64"
      ]
     },
     "execution_count": 179,
     "metadata": {},
     "output_type": "execute_result"
    }
   ],
   "source": [
    "#Filtered the Text description of the clip to see if it related to a workshop of some kind\n",
    "def add_chapter_workshops(text):\n",
    "    if ('workshop' or 'webinar') in text.lower():\n",
    "        return True\n",
    "    else:\n",
    "        return False\n",
    "    \n",
    "df['Local Chapter Workshops'] = df['Plain Text'].apply(lambda x: add_chapter_workshops(x))\n",
    "\n",
    "df.groupby('Local Chapter Workshops').size()"
   ]
  },
  {
   "attachments": {},
   "cell_type": "markdown",
   "metadata": {},
   "source": [
    "# Success Stories"
   ]
  },
  {
   "cell_type": "code",
   "execution_count": 180,
   "metadata": {},
   "outputs": [
    {
     "data": {
      "text/plain": [
       "Success Stories\n",
       "False    8165\n",
       "True      127\n",
       "dtype: int64"
      ]
     },
     "execution_count": 180,
     "metadata": {},
     "output_type": "execute_result"
    }
   ],
   "source": [
    "success_story_busineses = ['Aclipse Campervans', 'Alliance Historical Society', 'Anchor Hoist', 'AR\\'s Hot Southern Honey', 'ArtRoom Flowers', 'Bal Arisi', 'The Barn Yard', 'Be Moore Interpreting', 'BHA Consulting', 'Bixby Chocolate', 'Bounce Around Bucks Party Rentals', 'Cafe la Reine', 'Cleveland Flower Walls', 'Crossfire Fitness', 'Firefly Landing Cafe and Bakery', 'The Flossy Peach', 'Flourish Plant Market', 'FrostyFlake', 'Giuliano\\'s Deli', 'Gluten Free Navigator', 'Go Girl Life Coaching', 'Grass Sticks', 'Healthy Home Organizing', 'Healthy PlanEat', 'Hope and Meaning Counseling', 'Ice Imports', 'Inspired Wraps', 'Julia Piechota - Life Coach', 'K9 Solutions', 'Kona Compost Owner', 'Las Cruces Coins & Collectibles', 'Leo\\'s Mercado', 'Lorton\\'s Victor Wear', 'Love & Envy', 'Mixtape Streets Eatery', 'Nature Packaged', 'NOLA Coffee', 'Ohhs Disposable Underwear', 'Owl Arts', 'Pieh Tool Company', 'Ray of Light Offerings', 'RiverFire Glass', 'School Food Service Solutions, LLC', 'SIC Wraps', 'Sound Bites Nutrition', 'SURE!', 'The Sensory Club', 'Thompson Tee', 'Tredge Solutions', 'Uni Uni', 'Union Yoga Co', 'Waggin Trails LLC', 'Warminster Wellness', 'Whitson Wonder Productions', 'Wing Tsun Illinois', 'Veterans 1st of NEW', 'Victor Wear']\n",
    "\n",
    "success_story_busineses = [x.lower() for x in success_story_busineses]\n",
    "\n",
    "#Filtered to see if Success Story businesses were mentioned\n",
    "def add_success_stories(text):\n",
    "    for business in success_story_busineses:\n",
    "        if business in text.lower():\n",
    "            return True \n",
    "    return False\n",
    "\n",
    "df['Success Stories'] = df['Plain Text'].apply(lambda x: add_success_stories(x))\n",
    "\n",
    "df.groupby('Success Stories').size()\n"
   ]
  },
  {
   "attachments": {},
   "cell_type": "markdown",
   "metadata": {},
   "source": [
    "# Pitch Placements"
   ]
  },
  {
   "cell_type": "code",
   "execution_count": 181,
   "metadata": {},
   "outputs": [
    {
     "data": {
      "text/plain": [
       "Pitch Placements\n",
       "False    4190\n",
       "True     4102\n",
       "dtype: int64"
      ]
     },
     "execution_count": 181,
     "metadata": {},
     "output_type": "execute_result"
    }
   ],
   "source": [
    "pitch_authors = ['Aaron Mulherin', 'Ames Russell', 'Billy Thompson', \n",
    "                 'Candice Stennett', 'Carolyn Katz', 'DeLisa Clift', \n",
    "                 'Dina Estrada', 'Evelyn Shields', 'Fanni Xie', \n",
    "                 'Fernando Nunez', 'Frank LaMonaca', 'Gary Robinson', \n",
    "                 'Hal Shelton', 'Jay Berman', 'Jenna Tucker', 'Judy Trevino', 'Julie Brander', 'Kate McAleer', 'Kelly Twichel', \n",
    "                 'Laura Licursi', 'Leland Dear', 'Lenny Buchholtz', \n",
    "                 'Lori Martinek', 'Lorinda Gonzalez', \n",
    "                 'Mark Cutler', 'Matt Evans', 'Nicole Ehrbar', 'Norm Sherman',\n",
    "                 'Patrick Hall', 'Patti Williams', 'Raj Tumber', \n",
    "                 'Rani Martier', 'Ricardo Casas', 'Steven Cybulski', 'Tara Ritchie', 'Walter Abbott', 'Bridget Weston', 'Betsy Dougert']\n",
    "\n",
    "pitch_authors = [x.lower() for x in pitch_authors]\n",
    "\n",
    "pitch_keywords = ['Megaphone of Main Street','SCORE data','SCORE mentor']\n",
    "pitch_keywords = [x.lower() for x in pitch_keywords]\n",
    "\n",
    "# Filtered to see if there was a pitch placement author who wrote the clip, or a pitch placement keyword was used\n",
    "def add_pitch_placements(text):\n",
    "    for author in pitch_authors:\n",
    "        if author in text.lower():\n",
    "            return True \n",
    "    for keyword in pitch_keywords:\n",
    "        if keyword in text.lower():\n",
    "            return True       \n",
    "    return False\n",
    "\n",
    "df['Pitch Placements'] = df['Plain Text'].apply(lambda x: add_pitch_placements(x))\n",
    "\n",
    "df.groupby('Pitch Placements').size()\n"
   ]
  },
  {
   "attachments": {},
   "cell_type": "markdown",
   "metadata": {},
   "source": [
    "# Charts"
   ]
  },
  {
   "cell_type": "code",
   "execution_count": 182,
   "metadata": {},
   "outputs": [
    {
     "data": {
      "text/html": [
       "<div>\n",
       "<style scoped>\n",
       "    .dataframe tbody tr th:only-of-type {\n",
       "        vertical-align: middle;\n",
       "    }\n",
       "\n",
       "    .dataframe tbody tr th {\n",
       "        vertical-align: top;\n",
       "    }\n",
       "\n",
       "    .dataframe thead th {\n",
       "        text-align: right;\n",
       "    }\n",
       "</style>\n",
       "<table border=\"1\" class=\"dataframe\">\n",
       "  <thead>\n",
       "    <tr style=\"text-align: right;\">\n",
       "      <th></th>\n",
       "      <th>Press Content</th>\n",
       "      <th>Total Entries</th>\n",
       "      <th>Average Estimated National Audience</th>\n",
       "      <th>Average Estimated National Publicity Value</th>\n",
       "    </tr>\n",
       "  </thead>\n",
       "  <tbody>\n",
       "    <tr>\n",
       "      <th>0</th>\n",
       "      <td>Ask SCORE</td>\n",
       "      <td>190</td>\n",
       "      <td>7.730159e+05</td>\n",
       "      <td>84710.431579</td>\n",
       "    </tr>\n",
       "    <tr>\n",
       "      <th>1</th>\n",
       "      <td>Radio PSA</td>\n",
       "      <td>2524</td>\n",
       "      <td>2.800756e+04</td>\n",
       "      <td>86.601030</td>\n",
       "    </tr>\n",
       "    <tr>\n",
       "      <th>2</th>\n",
       "      <td>Press Release</td>\n",
       "      <td>40</td>\n",
       "      <td>2.494328e+05</td>\n",
       "      <td>14323.750000</td>\n",
       "    </tr>\n",
       "    <tr>\n",
       "      <th>3</th>\n",
       "      <td>Local Chapter Workshops</td>\n",
       "      <td>832</td>\n",
       "      <td>3.925929e+05</td>\n",
       "      <td>4290.402644</td>\n",
       "    </tr>\n",
       "    <tr>\n",
       "      <th>4</th>\n",
       "      <td>Success Stories</td>\n",
       "      <td>127</td>\n",
       "      <td>1.076787e+06</td>\n",
       "      <td>6654.866142</td>\n",
       "    </tr>\n",
       "    <tr>\n",
       "      <th>5</th>\n",
       "      <td>Pitch Placements</td>\n",
       "      <td>4102</td>\n",
       "      <td>5.231168e+05</td>\n",
       "      <td>5828.444417</td>\n",
       "    </tr>\n",
       "  </tbody>\n",
       "</table>\n",
       "</div>"
      ],
      "text/plain": [
       "             Press Content  Total Entries  \\\n",
       "0                Ask SCORE            190   \n",
       "1                Radio PSA           2524   \n",
       "2            Press Release             40   \n",
       "3  Local Chapter Workshops            832   \n",
       "4          Success Stories            127   \n",
       "5         Pitch Placements           4102   \n",
       "\n",
       "   Average Estimated National Audience  \\\n",
       "0                         7.730159e+05   \n",
       "1                         2.800756e+04   \n",
       "2                         2.494328e+05   \n",
       "3                         3.925929e+05   \n",
       "4                         1.076787e+06   \n",
       "5                         5.231168e+05   \n",
       "\n",
       "   Average Estimated National Publicity Value  \n",
       "0                                84710.431579  \n",
       "1                                   86.601030  \n",
       "2                                14323.750000  \n",
       "3                                 4290.402644  \n",
       "4                                 6654.866142  \n",
       "5                                 5828.444417  "
      ]
     },
     "execution_count": 182,
     "metadata": {},
     "output_type": "execute_result"
    }
   ],
   "source": [
    "charts = pd.DataFrame()\n",
    "\n",
    "# Titles\n",
    "charts['Press Content'] = ['Ask SCORE', 'Radio PSA', 'Press Release', 'Local Chapter Workshops', 'Success Stories', 'Pitch Placements']\n",
    "\n",
    "# Total Entries\n",
    "charts['Total Entries'] = 0\n",
    "for i in range(len(charts)):\n",
    "    press_content = charts.loc[i, 'Press Content']\n",
    "    charts.at[i, 'Total Entries'] = (df[press_content] == True).sum()\n",
    "\n",
    "# Average Estimated National Audience\n",
    "charts['Average Estimated National Audience'] = np.nan\n",
    "for i in range(len(charts)):\n",
    "    press_content = charts.loc[i, 'Press Content']\n",
    "    mask = df[press_content] == True\n",
    "    charts.at[i, 'Average Estimated National Audience'] = df.loc[mask, 'Estimated National Audience'].mean()\n",
    "\n",
    "# Average Estimated National Publicity Value\n",
    "charts['Average Estimated National Publicity Value'] = np.nan\n",
    "for i in range(len(charts)):\n",
    "    press_content = charts.loc[i, 'Press Content']\n",
    "    mask = df[press_content] == True\n",
    "    charts.at[i, 'Average Estimated National Publicity Value'] = df.loc[mask, 'Estimated National Publicity Value'].mean()\n",
    "\n",
    "charts\n",
    "\n"
   ]
  },
  {
   "cell_type": "code",
   "execution_count": 183,
   "metadata": {},
   "outputs": [
    {
     "data": {
      "image/png": "[encoded data removed]",
      "text/plain": [
       "<Figure size 432x288 with 1 Axes>"
      ]
     },
     "metadata": {
      "needs_background": "light"
     },
     "output_type": "display_data"
    }
   ],
   "source": [
    "#Total Entries Plot\n",
    "\n",
    "# Data\n",
    "x_values = charts['Press Content']\n",
    "y_values = charts['Total Entries']\n",
    "\n",
    "# Plotting\n",
    "plt.bar(x_values, y_values)\n",
    "\n",
    "# Axis labels\n",
    "plt.xlabel('Press Type')\n",
    "plt.ylabel('Entries')\n",
    "\n",
    "# Title\n",
    "plt.title('Entries per Press Type')\n",
    "\n",
    "#So the names do not overlap\n",
    "plt.xticks(rotation=45)\n",
    "\n",
    "# Display the plot\n",
    "plt.show()"
   ]
  },
  {
   "cell_type": "code",
   "execution_count": 184,
   "metadata": {},
   "outputs": [
    {
     "data": {
      "image/png": "[encoded data removed]",
      "text/plain": [
       "<Figure size 432x288 with 1 Axes>"
      ]
     },
     "metadata": {
      "needs_background": "light"
     },
     "output_type": "display_data"
    }
   ],
   "source": [
    "#Average Estimated Audience Plot\n",
    "\n",
    "# Data\n",
    "x_values = charts['Press Content']\n",
    "y_values = charts['Average Estimated National Audience']\n",
    "\n",
    "# Plotting\n",
    "plt.bar(x_values, y_values)\n",
    "\n",
    "# Axis labels\n",
    "plt.xlabel('Press Type')\n",
    "plt.ylabel('Average Audience')\n",
    "\n",
    "# Title\n",
    "plt.title('Average Audience per Press Type')\n",
    "plt.xticks(rotation=45)\n",
    "\n",
    "# Display the plot\n",
    "plt.show()"
   ]
  },
  {
   "cell_type": "code",
   "execution_count": 185,
   "metadata": {},
   "outputs": [
    {
     "data": {
      "image/png": "[encoded data removed]",
      "text/plain": [
       "<Figure size 432x288 with 1 Axes>"
      ]
     },
     "metadata": {
      "needs_background": "light"
     },
     "output_type": "display_data"
    }
   ],
   "source": [
    "#Total Entries Plot\n",
    "\n",
    "# Data\n",
    "x_values = charts['Press Content']\n",
    "y_values = charts['Average Estimated National Publicity Value']\n",
    "\n",
    "# Plotting\n",
    "plt.bar(x_values, y_values)\n",
    "\n",
    "# Axis labels\n",
    "plt.xlabel('Press Type')\n",
    "plt.ylabel('Average Publicity Value')\n",
    "\n",
    "# Title\n",
    "plt.title('Average Publicity Value per Press Type')\n",
    "plt.xticks(rotation=45)\n",
    "\n",
    "# Display the plot\n",
    "plt.show()"
   ]
  },
  {
   "cell_type": "code",
   "execution_count": 186,
   "metadata": {},
   "outputs": [
    {
     "data": {
      "text/plain": [
       "162     Business Tips from SCORE: Steps to maximize bu...\n",
       "163     Business Tips from SCORE: Steps to maximize bu...\n",
       "321     April 15 - Ask Score: How to make writing a bu...\n",
       "348     April 15 - Ask Score: How to make writing a bu...\n",
       "393     Business Tips from SCORE: How to refresh your ...\n",
       "                              ...                        \n",
       "8233        Ask SCORE: Making the hard business decisions\n",
       "8234    Ask SCORE: Secrets to ensure a positive sales ...\n",
       "8235        Ask SCORE: 5 small business mistakes to avoid\n",
       "8255    Business Tips from SCORE: Here's what Gen Z em...\n",
       "8271              Ask SCORE: Defining your business model\n",
       "Name: Article Title, Length: 122, dtype: object"
      ]
     },
     "execution_count": 186,
     "metadata": {},
     "output_type": "execute_result"
    }
   ],
   "source": [
    "a = df[title]\n",
    "a['Article Title']"
   ]
  },
  {
   "attachments": {},
   "cell_type": "markdown",
   "metadata": {},
   "source": [
    "# ANOVA Model"
   ]
  }
 ],
 "metadata": {
  "kernelspec": {
   "display_name": "Python 3",
   "language": "python",
   "name": "python3"
  },
  "language_info": {
   "codemirror_mode": {
    "name": "ipython",
    "version": 3
   },
   "file_extension": ".py",
   "mimetype": "text/x-python",
   "name": "python",
   "nbconvert_exporter": "python",
   "pygments_lexer": "ipython3",
   "version": "3.9.7"
  },
  "orig_nbformat": 4,
  "vscode": {
   "interpreter": {
    "hash": "38cca0c38332a56087b24af0bc80247f4fced29cb4f7f437d91dc159adec9c4e"
   }
  }
 },
 "nbformat": 4,
 "nbformat_minor": 2
}
